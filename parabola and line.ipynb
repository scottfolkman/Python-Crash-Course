{
 "cells": [
  {
   "cell_type": "code",
   "execution_count": null,
   "metadata": {},
   "outputs": [],
   "source": [
    "import plotly.graph_objects as go\n",
    "import numpy as np\n",
    "\n",
    "# Data for the line\n",
    "x_line = np.linspace(0, 10, 100)\n",
    "y_line = 2 * x_line + 3\n",
    "\n",
    "# Data for the parabola\n",
    "x_parabola = np.linspace(-10, 10, 400)\n",
    "y_parabola = x_parabola ** 2\n",
    "\n",
    "# Create the figure\n",
    "fig = go.Figure()\n",
    "\n",
    "# Add line trace\n",
    "fig.add_trace(go.Scatter(x=x_line, y=y_line, mode='lines', name='Line: y = 2x + 3', line=dict(color='blue')))\n",
    "\n",
    "# Add parabola trace\n",
    "fig.add_trace(go.Scatter(x=x_parabola, y=y_parabola, mode='lines', name='Parabola: y = x^2', line=dict(color='red')))\n",
    "\n",
    "# Add titles and labels\n",
    "fig.update_layout(title='Combined Graph of Line and Parabola',\n",
    "                  xaxis_title='x',\n",
    "                  yaxis_title='y')\n",
    "\n",
    "# Show the plot\n",
    "fig.show()\n"
   ]
  },
  {
   "cell_type": "code",
   "execution_count": null,
   "metadata": {},
   "outputs": [],
   "source": []
  }
 ],
 "metadata": {
  "kernelspec": {
   "display_name": "Python 3",
   "language": "python",
   "name": "python3"
  },
  "language_info": {
   "codemirror_mode": {
    "name": "ipython",
    "version": 3
   },
   "file_extension": ".py",
   "mimetype": "text/x-python",
   "name": "python",
   "nbconvert_exporter": "python",
   "pygments_lexer": "ipython3",
   "version": "3.11.5"
  }
 },
 "nbformat": 4,
 "nbformat_minor": 2
}
